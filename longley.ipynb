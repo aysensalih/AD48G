{
 "cells": [
  {
   "cell_type": "code",
   "execution_count": null,
   "id": "7e955c1a-543e-4b48-b53b-1d0f2af12da3",
   "metadata": {
    "tags": []
   },
   "outputs": [],
   "source": [
    "library(tidyverse)\n",
    "library(magrittr)\n",
    "library(DT)"
   ]
  },
  {
   "cell_type": "code",
   "execution_count": null,
   "id": "51cd00b8-365b-4c5f-9286-bb100a80c280",
   "metadata": {
    "tags": []
   },
   "outputs": [],
   "source": [
    "install.packages(\"datasets\")"
   ]
  },
  {
   "cell_type": "code",
   "execution_count": null,
   "id": "36470ca5-5677-46d1-9207-d62e828e88b2",
   "metadata": {
    "tags": []
   },
   "outputs": [],
   "source": [
    "library(data.table)\n",
    "library(DT)"
   ]
  },
  {
   "cell_type": "code",
   "execution_count": null,
   "id": "5e445ae6-b3b9-4af7-8751-23edd3f5524a",
   "metadata": {
    "tags": []
   },
   "outputs": [],
   "source": [
    "longley"
   ]
  },
  {
   "cell_type": "code",
   "execution_count": null,
   "id": "c91b058d-e812-4fc3-a007-d7a5947ca4a4",
   "metadata": {
    "tags": []
   },
   "outputs": [],
   "source": [
    "longley %>% select(-Year, -Armed.Forces)"
   ]
  },
  {
   "cell_type": "code",
   "execution_count": null,
   "id": "066832cb-5011-4417-8b44-33e59a6d5466",
   "metadata": {
    "tags": []
   },
   "outputs": [],
   "source": [
    "as.data.frame((longley$Employed + longley$Unemployed) / longley$Population)"
   ]
  },
  {
   "cell_type": "code",
   "execution_count": null,
   "id": "88ac5769-d9ad-43ce-80e5-f7565e33d0bb",
   "metadata": {
    "tags": []
   },
   "outputs": [],
   "source": [
    "longley %>% filter((Employed+Unemployed)/Population > 3)"
   ]
  },
  {
   "cell_type": "code",
   "execution_count": null,
   "id": "efc5f256-b8b2-466d-b769-2ca810330dc1",
   "metadata": {
    "tags": []
   },
   "outputs": [],
   "source": [
    "longley%<>%\n",
    "mutate(Active_Population = Employed + Unemployed) %<>% \n",
    "mutate(Employment_Rate = (Employed/Active_Population)*100) %<>%\n",
    "mutate(Better_Than_Avrg = ifelse(Employment_Rate > mean(Employment_Rate, na.rm = TRUE), \"Better\", \"Worse\"))"
   ]
  },
  {
   "cell_type": "code",
   "execution_count": null,
   "id": "6c2344f2-d77a-4b64-b962-deaf88c9c2e6",
   "metadata": {
    "tags": []
   },
   "outputs": [],
   "source": [
    "longley"
   ]
  },
  {
   "cell_type": "code",
   "execution_count": null,
   "id": "65dd35f3-b46b-46d0-bc98-ab660e61b6da",
   "metadata": {
    "tags": []
   },
   "outputs": [],
   "source": [
    "longley %>% str"
   ]
  },
  {
   "cell_type": "code",
   "execution_count": null,
   "id": "8f1cb22b-f8b5-4b1c-a3b1-435f51674587",
   "metadata": {
    "tags": []
   },
   "outputs": [],
   "source": [
    "longley %>% summarise(Max_Employment_Rate = max(Employment_Rate, na.rm=T))"
   ]
  },
  {
   "cell_type": "code",
   "execution_count": null,
   "id": "0d291675-c411-4a70-9ed3-ed1b734320b0",
   "metadata": {
    "tags": []
   },
   "outputs": [],
   "source": [
    "longley %>% group_by(Year, Better_Than_Avrg) %>% summarise(Max_Employment_Rate = max(Employment_Rate, na.rm=T))"
   ]
  },
  {
   "cell_type": "code",
   "execution_count": null,
   "id": "92074f08-a0a4-4e0d-896f-558268dabe46",
   "metadata": {
    "tags": []
   },
   "outputs": [],
   "source": [
    "longley_when <- \n",
    "  longley %>% \n",
    "  group_by(Year, Better_Than_Avrg) %>%\n",
    "  summarise(\n",
    "    maxER = max(Employment_Rate, na.rm = TRUE),\n",
    "    minER = min(Employment_Rate, na.rm = TRUE),\n",
    "    averageER = mean(Employment_Rate, na.rm = TRUE)\n",
    "  )"
   ]
  },
  {
   "cell_type": "code",
   "execution_count": null,
   "id": "00f55ac7-7429-4c69-b30a-4271567a0e5f",
   "metadata": {
    "tags": []
   },
   "outputs": [],
   "source": [
    "str(longley_when)"
   ]
  },
  {
   "cell_type": "code",
   "execution_count": null,
   "id": "7fcee670-43f6-4858-8a04-576a426ed902",
   "metadata": {
    "tags": []
   },
   "outputs": [],
   "source": [
    "longley_when_wide <- longley_when %>% \n",
    "  pivot_wider(id_cols = Year, names_from = Better_Than_Avrg , values_from = averageER)"
   ]
  },
  {
   "cell_type": "code",
   "execution_count": null,
   "id": "48d60344-26f8-42a3-9d82-f805de7a962e",
   "metadata": {
    "tags": []
   },
   "outputs": [],
   "source": [
    "longley_when_wide"
   ]
  },
  {
   "cell_type": "code",
   "execution_count": null,
   "id": "78d4be2e-0bbb-45c1-913f-e43eb34dea5c",
   "metadata": {
    "tags": []
   },
   "outputs": [],
   "source": [
    "longley_longer <- longley_when_wide %>% pivot_longer(cols= -\"Year\", names_to= \"Better_Worse\", values_to=\"averageER\", values_drop_na = T)"
   ]
  },
  {
   "cell_type": "code",
   "execution_count": null,
   "id": "e1bfb92e-d9a7-4c06-b1bb-712f4c1e2dbc",
   "metadata": {
    "tags": []
   },
   "outputs": [],
   "source": [
    "longley_longer"
   ]
  },
  {
   "cell_type": "code",
   "execution_count": null,
   "id": "b7e99049-3ad4-4609-b27b-35d901c0cba7",
   "metadata": {
    "tags": []
   },
   "outputs": [],
   "source": [
    "longley %>% left_join(longley_longer, by= \"Year\") %>% select(-Better_Worse)"
   ]
  },
  {
   "cell_type": "code",
   "execution_count": null,
   "id": "4175101a-e519-456e-a5d5-ab1723224749",
   "metadata": {},
   "outputs": [],
   "source": []
  }
 ],
 "metadata": {
  "kernelspec": {
   "display_name": "R",
   "language": "R",
   "name": "ir"
  },
  "language_info": {
   "codemirror_mode": "r",
   "file_extension": ".r",
   "mimetype": "text/x-r-source",
   "name": "R",
   "pygments_lexer": "r",
   "version": "4.2.1"
  }
 },
 "nbformat": 4,
 "nbformat_minor": 5
}
