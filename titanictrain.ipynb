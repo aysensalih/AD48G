{
 "cells": [
  {
   "cell_type": "code",
   "execution_count": null,
   "id": "5c08ee11-f09b-4479-b0e0-1c876b1aea0e",
   "metadata": {
    "tags": []
   },
   "outputs": [],
   "source": [
    "library(tidyverse)\n",
    "library(magrittr)\n",
    "library(data.table)\n",
    "library(DT)\n",
    "library(datasets)"
   ]
  },
  {
   "cell_type": "code",
   "execution_count": null,
   "id": "c85e25c1-5913-47c1-b573-bdb12a1c0e0e",
   "metadata": {
    "tags": []
   },
   "outputs": [],
   "source": [
    "install.packages(\"titanic\")\n",
    "library(titanic)\n",
    "data(package= \"titanic\")"
   ]
  },
  {
   "cell_type": "markdown",
   "id": "970f3ed2-3a19-4421-96e5-44f0613fdfe9",
   "metadata": {},
   "source": [
    "Let's find out about the Mr & Mrs in Titanic."
   ]
  },
  {
   "cell_type": "code",
   "execution_count": null,
   "id": "14210e23-5b15-478a-a83b-733aa4b91161",
   "metadata": {
    "tags": []
   },
   "outputs": [],
   "source": [
    "titanic_train$Name %>% str_subset(\"Mr\") %>% as.data.frame"
   ]
  },
  {
   "cell_type": "code",
   "execution_count": null,
   "id": "89ea7993-91eb-41d6-9742-e59d3f7efdcc",
   "metadata": {
    "tags": []
   },
   "outputs": [],
   "source": [
    "titanic_train$Name %>% str_extract_all(\"Mr\") %>% head(13)"
   ]
  },
  {
   "cell_type": "code",
   "execution_count": null,
   "id": "e7eaf0f8-fd0c-4938-85b1-1aec92e0ff2b",
   "metadata": {
    "tags": []
   },
   "outputs": [],
   "source": [
    "titanic_train$Name %>% str_replace_all(\"Mr\", \"Rich and old\") %>% head %>% as.data.frame"
   ]
  },
  {
   "cell_type": "code",
   "execution_count": null,
   "id": "9af73907-22c9-4e09-9f48-8782a7e36217",
   "metadata": {
    "tags": []
   },
   "outputs": [],
   "source": [
    "titanic_train$Name %>% str_which(\"Mr\")"
   ]
  },
  {
   "cell_type": "code",
   "execution_count": null,
   "id": "ba13414f-ea7a-4e68-97b2-34361280d374",
   "metadata": {
    "tags": []
   },
   "outputs": [],
   "source": [
    "titanic_train$Name %>% str_subset(\"Harry\") %>% as.data.frame"
   ]
  },
  {
   "cell_type": "markdown",
   "id": "a67ddd07-161d-4728-af33-0c77195d969f",
   "metadata": {},
   "source": [
    "Let's remember the famous movie."
   ]
  },
  {
   "cell_type": "code",
   "execution_count": null,
   "id": "bb7c9717-9707-495f-9f6a-5c312b8049b5",
   "metadata": {
    "tags": []
   },
   "outputs": [],
   "source": [
    "titanic_train$Name %>% str_replace(\"Harry\", \"DiCaprio\") %>% str_subset(\"DiCaprio\") %>% as.data.frame"
   ]
  },
  {
   "cell_type": "code",
   "execution_count": null,
   "id": "19c1fb49-32be-437d-9ae5-a346c202b2a2",
   "metadata": {
    "tags": []
   },
   "outputs": [],
   "source": [
    "titanic_train$Name %>% str_detect(\"Miss\") %>% unlist"
   ]
  },
  {
   "cell_type": "code",
   "execution_count": null,
   "id": "b2ddc095-f8fb-4503-be8b-0a5662f89f07",
   "metadata": {
    "tags": []
   },
   "outputs": [],
   "source": [
    "titanic_train$Name %>% str_subset(\"h+y\") %>% as.data.frame"
   ]
  },
  {
   "cell_type": "code",
   "execution_count": null,
   "id": "445a4523-dfbd-4e22-88a5-5acaa7d00fd7",
   "metadata": {
    "tags": []
   },
   "outputs": [],
   "source": [
    "titanic_train$Name %>% str_subset(\"J*m+\") %>% as.data.frame %>% head"
   ]
  },
  {
   "cell_type": "code",
   "execution_count": null,
   "id": "317a6410-41d5-48b1-9338-72c0cb8e070a",
   "metadata": {
    "tags": []
   },
   "outputs": [],
   "source": [
    "titanic_train$Name %>% str_subset(\"M?m+\") %>% as.data.frame %>% head"
   ]
  },
  {
   "cell_type": "code",
   "execution_count": null,
   "id": "5eb24993-34ca-487e-9243-e68b6012b76c",
   "metadata": {
    "tags": []
   },
   "outputs": [],
   "source": [
    "titanic_train$Name %>% str_subset(\"a.*b\") %>% head"
   ]
  },
  {
   "cell_type": "code",
   "execution_count": null,
   "id": "c4d3bff3-05fb-401f-a2bd-370b3b86f5a6",
   "metadata": {
    "tags": []
   },
   "outputs": [],
   "source": [
    "titanic_train$Name %>% str_subset(\"Mr|Miss\") %>% head"
   ]
  },
  {
   "cell_type": "code",
   "execution_count": null,
   "id": "ef2bc70e-0317-4db1-8490-4a86fd6e27e1",
   "metadata": {
    "tags": []
   },
   "outputs": [],
   "source": [
    "titanic_train$Name %>% str_replace(\"Mr|Miss\", \"Rich\") %>% head"
   ]
  },
  {
   "cell_type": "code",
   "execution_count": null,
   "id": "2920bcff-ff4f-4159-8fde-1944404117e4",
   "metadata": {
    "tags": []
   },
   "outputs": [],
   "source": [
    "titanic_train$Name %>% str_subset(\"J\\\\w\") %>% head"
   ]
  },
  {
   "cell_type": "markdown",
   "id": "e715bd08-33fa-421d-b14d-d44fdf19c393",
   "metadata": {},
   "source": [
    "Let's find out about the poorer ones."
   ]
  },
  {
   "cell_type": "code",
   "execution_count": null,
   "id": "b5aabd8c-da1b-4cf7-85b5-6a0acd7246c1",
   "metadata": {
    "tags": []
   },
   "outputs": [],
   "source": [
    "titanic_train$Name %>% str_replace_all(\"\\\\w+, \", \"\") %>% str_subset(\"^Miss|Mr\", negate=T)"
   ]
  },
  {
   "cell_type": "markdown",
   "id": "e35bcc04-73f0-4cd8-a78b-e4291ec89e8e",
   "metadata": {},
   "source": [
    "How common is \"ey\" ending?"
   ]
  },
  {
   "cell_type": "code",
   "execution_count": null,
   "id": "cd08011f-6290-47d6-b93f-338caae2ebe9",
   "metadata": {
    "tags": []
   },
   "outputs": [],
   "source": [
    "titanic_train$Name %>% str_subset(\"ey$\")"
   ]
  },
  {
   "cell_type": "markdown",
   "id": "578db3df-2c19-4969-a435-84ec105750ed",
   "metadata": {},
   "source": [
    "Lets exclude the names with the most common letter \"e\"!"
   ]
  },
  {
   "cell_type": "code",
   "execution_count": null,
   "id": "6161bf74-61a7-450e-a664-777a84871666",
   "metadata": {
    "tags": []
   },
   "outputs": [],
   "source": [
    "titanic_train$Name %>% str_subset(\"^[^e]+$\")"
   ]
  },
  {
   "cell_type": "code",
   "execution_count": null,
   "id": "ecd2529d-c0bd-4936-bb05-b4763373cd06",
   "metadata": {
    "tags": []
   },
   "outputs": [],
   "source": [
    "titanic_train$Name %>% str_subset(\"^[^e]+$\") %>% str_subset(\"o$\") %>% str_extract_all(\"\\\\w{3}\\\\b\")"
   ]
  },
  {
   "cell_type": "markdown",
   "id": "076b84f0-bd47-4e4f-8dd5-1c55acd596c9",
   "metadata": {},
   "source": [
    "To be able to use \"\\d\" let's check out Cabin numbers since there is no digits in the names."
   ]
  },
  {
   "cell_type": "code",
   "execution_count": null,
   "id": "5cd19429-f2f3-40e4-a4df-111248a90f2d",
   "metadata": {
    "tags": []
   },
   "outputs": [],
   "source": [
    "titanic_train$Cabin %>% str_subset(\"\\\\d\")"
   ]
  },
  {
   "cell_type": "markdown",
   "id": "0779c509-09ee-4c35-8371-f5104981e8c9",
   "metadata": {},
   "source": [
    "This way we can learn about the gasts who rented more than 1 cabin and may assume they have families."
   ]
  },
  {
   "cell_type": "code",
   "execution_count": null,
   "id": "4d9b3b2e-b36e-4229-b272-29b312352c23",
   "metadata": {
    "tags": []
   },
   "outputs": [],
   "source": [
    "titanic_train$Cabin %>% str_subset(\"\\\\d\\\\s\")"
   ]
  },
  {
   "cell_type": "code",
   "execution_count": null,
   "id": "a1af89e1-3505-466d-a797-516e666ab149",
   "metadata": {
    "tags": []
   },
   "outputs": [],
   "source": [
    "titanic_train$Cabin %>% str_subset(\"[C]\")"
   ]
  },
  {
   "cell_type": "markdown",
   "id": "16ceca0c-df31-4fc8-8d74-121bb2d22059",
   "metadata": {},
   "source": [
    "Let's go back to names. Names that start with M and ends with m."
   ]
  },
  {
   "cell_type": "code",
   "execution_count": null,
   "id": "78005d15-bec8-4e95-a2b4-c4e8cfb919e2",
   "metadata": {
    "tags": []
   },
   "outputs": [],
   "source": [
    "titanic_train$Name %>% str_replace_all(\"\\\\w+, \", \"\") %>% str_subset(\"(M\\\\w+ ?)+(?=m)\")"
   ]
  },
  {
   "cell_type": "markdown",
   "id": "81406ff6-d5c7-449c-a6c1-520494d1d4ee",
   "metadata": {},
   "source": [
    "There were \"Masters\". Let's learn about them with lookbehind."
   ]
  },
  {
   "cell_type": "code",
   "execution_count": null,
   "id": "303273ff-24bb-4e1e-b2b1-d3de74cb1d81",
   "metadata": {
    "tags": []
   },
   "outputs": [],
   "source": [
    "titanic_train$Name %>% str_replace_all(\"\\\\w+, \", \"\") %>% str_subset(\"(?<=^Master\\\\.\\\\s)\\\\w+\")"
   ]
  },
  {
   "cell_type": "code",
   "execution_count": null,
   "id": "b5eafcd4-1eb6-41f1-bd3a-e1cf401e7e28",
   "metadata": {},
   "outputs": [],
   "source": []
  }
 ],
 "metadata": {
  "kernelspec": {
   "display_name": "R",
   "language": "R",
   "name": "ir"
  },
  "language_info": {
   "codemirror_mode": "r",
   "file_extension": ".r",
   "mimetype": "text/x-r-source",
   "name": "R",
   "pygments_lexer": "r",
   "version": "4.2.1"
  }
 },
 "nbformat": 4,
 "nbformat_minor": 5
}
