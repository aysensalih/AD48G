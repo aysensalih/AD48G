{
 "cells": [
  {
   "cell_type": "code",
   "execution_count": null,
   "id": "2b302832-387f-4695-81f4-d31e6de6baea",
   "metadata": {
    "tags": []
   },
   "outputs": [],
   "source": [
    "library(data.table)"
   ]
  },
  {
   "cell_type": "code",
   "execution_count": null,
   "id": "4d9b1d14-92fe-44c7-8d06-3a4a0f63f8b8",
   "metadata": {
    "tags": []
   },
   "outputs": [],
   "source": [
    "library(DT)"
   ]
  },
  {
   "cell_type": "code",
   "execution_count": null,
   "id": "70be81a3-7202-4451-be21-9da8fe7ee511",
   "metadata": {
    "tags": []
   },
   "outputs": [],
   "source": [
    "library(titanic)"
   ]
  },
  {
   "cell_type": "markdown",
   "id": "3afd9618-cd47-4653-a7d7-5f43a8a3f40b",
   "metadata": {},
   "source": [
    "Let's explore the package \"titanic\"."
   ]
  },
  {
   "cell_type": "code",
   "execution_count": null,
   "id": "439cee85-392b-46fb-954f-ac8b6bfbd41a",
   "metadata": {
    "tags": []
   },
   "outputs": [],
   "source": [
    "data(package = \"titanic\")"
   ]
  },
  {
   "cell_type": "code",
   "execution_count": null,
   "id": "e48de824-a5fa-47a1-bd39-db0ba8d08d70",
   "metadata": {
    "tags": []
   },
   "outputs": [],
   "source": [
    "head(titanic_train)"
   ]
  },
  {
   "cell_type": "code",
   "execution_count": null,
   "id": "36e0b341-7d38-4de1-a4f2-eed0c86aa835",
   "metadata": {
    "tags": []
   },
   "outputs": [],
   "source": [
    "head(titanic_test)"
   ]
  },
  {
   "cell_type": "markdown",
   "id": "7e25215d-c51d-4123-b625-91f8d1eb56bc",
   "metadata": {},
   "source": [
    "Let's convert our dataset from data frame shape to data table."
   ]
  },
  {
   "cell_type": "code",
   "execution_count": null,
   "id": "c76943c7-0b4e-4d28-bb4a-d933ee46a447",
   "metadata": {
    "tags": []
   },
   "outputs": [],
   "source": [
    "titanics <- copy(titanic_train)\n",
    "setDT(titanics) "
   ]
  },
  {
   "cell_type": "markdown",
   "id": "84a0db91-3d48-423e-86ea-ed5e8d296fa5",
   "metadata": {},
   "source": [
    "Let's find out about the people who survived in Titanic as a first class passenger and also younger than or equal to 20 years old by using i operations."
   ]
  },
  {
   "cell_type": "code",
   "execution_count": null,
   "id": "b9f5364b-6184-4835-ac38-834968979a13",
   "metadata": {
    "tags": []
   },
   "outputs": [],
   "source": [
    "titanics[Survived==1 & Pclass ==1 & Age <= 20]"
   ]
  },
  {
   "cell_type": "markdown",
   "id": "4744a65d-7e3d-441f-a1db-c6fc03963352",
   "metadata": {},
   "source": [
    "Let's show how much would it cost for a first class surviver a ticket today and show their identities by using j operations."
   ]
  },
  {
   "cell_type": "code",
   "execution_count": null,
   "id": "866b59a0-cb29-438f-ad9a-e0900e2f25cd",
   "metadata": {
    "tags": []
   },
   "outputs": [],
   "source": [
    "titanics[Survived == 1 & Pclass == 1, .(Name, Sex, Age, Fare, FareToday = Fare*34)]"
   ]
  },
  {
   "cell_type": "markdown",
   "id": "c41f9243-6a25-4d58-a317-52c8514e40f8",
   "metadata": {},
   "source": [
    "Let's add FareToday as an additional column."
   ]
  },
  {
   "cell_type": "code",
   "execution_count": null,
   "id": "2d3ff732-7fd4-4fba-8600-3480edbcf7f5",
   "metadata": {
    "tags": []
   },
   "outputs": [],
   "source": [
    "titanics[Survived == 1 & Pclass == 1, FareToday := Fare*34]"
   ]
  },
  {
   "cell_type": "code",
   "execution_count": null,
   "id": "2aa73fce-7472-41ca-a451-bee2a60e7285",
   "metadata": {
    "tags": []
   },
   "outputs": [],
   "source": [
    "titanics[Survived == 1 & Pclass == 1, .(Name, Sex, Age, Fare, FareToday)]"
   ]
  },
  {
   "cell_type": "markdown",
   "id": "fd61dbf6-5b88-441b-9aa9-a6cf443a6a83",
   "metadata": {},
   "source": [
    "Let's generalize it to the other passengers too."
   ]
  },
  {
   "cell_type": "code",
   "execution_count": null,
   "id": "91356a51-5cb3-46a6-b93a-618e3c8d1283",
   "metadata": {
    "tags": []
   },
   "outputs": [],
   "source": [
    "titanics[!is.na(Fare), FareToday := Fare*34]"
   ]
  },
  {
   "cell_type": "code",
   "execution_count": null,
   "id": "e6cdc102-6050-4e2e-9a6d-b4a12781d04c",
   "metadata": {
    "tags": []
   },
   "outputs": [],
   "source": [
    "titanics[, .(Name, Sex, Age, Fare, FareToday)]"
   ]
  },
  {
   "cell_type": "markdown",
   "id": "4c72da89-b2f2-4f19-868b-c8f7aa1d36e6",
   "metadata": {},
   "source": [
    "Let's have a short summary about passengers using by operations."
   ]
  },
  {
   "cell_type": "code",
   "execution_count": null,
   "id": "7ffbe9ed-89dd-4a4f-8f6c-889d40a2be45",
   "metadata": {
    "tags": []
   },
   "outputs": [],
   "source": [
    "titanics[, .(maxFare = max(Fare, na.rm=T), minFare = min(Fare, na.rm=T), oldest = max(Age, na.rm=T), youngest = min(Age, na.rm=T)),\n",
    "         by = c(\"Survived\", \"Pclass\")]"
   ]
  },
  {
   "cell_type": "code",
   "execution_count": null,
   "id": "3870531e-a655-4933-a881-8252b5c9af17",
   "metadata": {
    "tags": []
   },
   "outputs": [],
   "source": [
    "titanicsinfo <- titanics[, .(maxFare = max(Fare, na.rm=T), minFare = min(Fare, na.rm=T), oldest = max(Age, na.rm=T), youngest = min(Age, na.rm=T)),\n",
    "         by = c(\"Survived\", \"Pclass\")]"
   ]
  },
  {
   "cell_type": "markdown",
   "id": "afb729d5-46ea-4816-9b99-b4c23054e823",
   "metadata": {},
   "source": [
    "Let's use dcast function to summarize columns into raws and columns across two discete/categoric variables.and columns across two discete/categoric variables."
   ]
  },
  {
   "cell_type": "code",
   "execution_count": null,
   "id": "4122dded-1b2f-4784-8c38-334c29f5b6d6",
   "metadata": {
    "tags": []
   },
   "outputs": [],
   "source": [
    "titanic_wide <- dcast(titanicsinfo, Pclass ~ Survived, value.var= \"maxFare\")"
   ]
  },
  {
   "cell_type": "code",
   "execution_count": null,
   "id": "684146f3-992f-426e-a4bf-a334c12834d7",
   "metadata": {
    "tags": []
   },
   "outputs": [],
   "source": [
    "titanic_wide"
   ]
  },
  {
   "cell_type": "markdown",
   "id": "f7c02c1d-9a66-474f-a2ac-0c697668d953",
   "metadata": {},
   "source": [
    "Let's make it long again."
   ]
  },
  {
   "cell_type": "code",
   "execution_count": null,
   "id": "a03a7197-2cec-4c6a-b8f9-93665f86c6e3",
   "metadata": {
    "tags": []
   },
   "outputs": [],
   "source": [
    "melt(titanic_wide, id.vars= \"Pclass\", variable.name = \"survived\", value.name = \"Fares\")"
   ]
  },
  {
   "cell_type": "code",
   "execution_count": null,
   "id": "608ee11a-5cae-44a2-a51c-7938924aa1e7",
   "metadata": {},
   "outputs": [],
   "source": []
  }
 ],
 "metadata": {
  "kernelspec": {
   "display_name": "R",
   "language": "R",
   "name": "ir"
  },
  "language_info": {
   "codemirror_mode": "r",
   "file_extension": ".r",
   "mimetype": "text/x-r-source",
   "name": "R",
   "pygments_lexer": "r",
   "version": "4.2.1"
  }
 },
 "nbformat": 4,
 "nbformat_minor": 5
}
